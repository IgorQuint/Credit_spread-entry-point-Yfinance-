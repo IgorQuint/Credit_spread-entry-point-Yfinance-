{
 "cells": [
  {
   "cell_type": "code",
   "execution_count": 83,
   "metadata": {},
   "outputs": [],
   "source": [
    "# Necessary Libraries\n",
    "import yfinance as yf\n",
    "import pandas as pd\n",
    "import shutil, os, time, glob\n",
    "import numpy as np\n",
    "import requests\n",
    "from get_all_tickers import get_tickers as gt\n",
    "from statistics import mean\n",
    "import math"
   ]
  },
  {
   "cell_type": "code",
   "execution_count": 84,
   "metadata": {},
   "outputs": [],
   "source": [
    "#Locations\n",
    "os.chdir(r\"C:\\Users\\igorq\\Documents\\Phynance\\Data\")\n",
    "pathopt = \"Options/\"\n",
    "ext = \".xlsx\""
   ]
  },
  {
   "cell_type": "code",
   "execution_count": 85,
   "metadata": {},
   "outputs": [],
   "source": [
    "#Parameters\n",
    "strike_width = 10\n",
    "tickers = [\"AMZN\"]"
   ]
  },
  {
   "cell_type": "code",
   "execution_count": 87,
   "metadata": {},
   "outputs": [
    {
     "ename": "IndexError",
     "evalue": "index 0 is out of bounds for axis 0 with size 0",
     "output_type": "error",
     "traceback": [
      "\u001b[1;31m---------------------------------------------------------------------------\u001b[0m",
      "\u001b[1;31mIndexError\u001b[0m                                Traceback (most recent call last)",
      "\u001b[1;32m<ipython-input-87-b8c6091a6c95>\u001b[0m in \u001b[0;36m<module>\u001b[1;34m\u001b[0m\n\u001b[0;32m      9\u001b[0m     \u001b[1;32mfor\u001b[0m \u001b[0mj\u001b[0m \u001b[1;32min\u001b[0m \u001b[0mrange\u001b[0m\u001b[1;33m(\u001b[0m\u001b[1;36m0\u001b[0m\u001b[1;33m,\u001b[0m \u001b[0mmin\u001b[0m\u001b[1;33m(\u001b[0m\u001b[1;36m2\u001b[0m\u001b[1;33m,\u001b[0m\u001b[0mlen\u001b[0m\u001b[1;33m(\u001b[0m\u001b[0mtemp\u001b[0m\u001b[1;33m.\u001b[0m\u001b[0moptions\u001b[0m\u001b[1;33m)\u001b[0m\u001b[1;33m)\u001b[0m\u001b[1;33m)\u001b[0m\u001b[1;33m:\u001b[0m\u001b[1;33m\u001b[0m\u001b[1;33m\u001b[0m\u001b[0m\n\u001b[0;32m     10\u001b[0m         \u001b[0mdf\u001b[0m \u001b[1;33m=\u001b[0m \u001b[0mtemp\u001b[0m\u001b[1;33m.\u001b[0m\u001b[0moption_chain\u001b[0m\u001b[1;33m(\u001b[0m\u001b[0mstr\u001b[0m\u001b[1;33m(\u001b[0m\u001b[0mtemp\u001b[0m\u001b[1;33m.\u001b[0m\u001b[0moptions\u001b[0m\u001b[1;33m[\u001b[0m\u001b[0mj\u001b[0m\u001b[1;33m]\u001b[0m\u001b[1;33m)\u001b[0m\u001b[1;33m)\u001b[0m\u001b[1;33m.\u001b[0m\u001b[0mcalls\u001b[0m\u001b[1;33m\u001b[0m\u001b[1;33m\u001b[0m\u001b[0m\n\u001b[1;32m---> 11\u001b[1;33m         \u001b[0mcenter_strike_pos\u001b[0m \u001b[1;33m=\u001b[0m \u001b[1;33m(\u001b[0m\u001b[0mdf\u001b[0m\u001b[1;33m[\u001b[0m\u001b[0mdf\u001b[0m\u001b[1;33m[\u001b[0m\u001b[1;34m'strike'\u001b[0m\u001b[1;33m]\u001b[0m\u001b[1;33m==\u001b[0m\u001b[0mcenter_strike\u001b[0m\u001b[1;33m]\u001b[0m\u001b[1;33m.\u001b[0m\u001b[0mindex\u001b[0m\u001b[1;33m.\u001b[0m\u001b[0mvalues\u001b[0m\u001b[1;33m)\u001b[0m\u001b[1;33m[\u001b[0m\u001b[1;36m0\u001b[0m\u001b[1;33m]\u001b[0m\u001b[1;33m\u001b[0m\u001b[1;33m\u001b[0m\u001b[0m\n\u001b[0m\u001b[0;32m     12\u001b[0m         \u001b[0mdown\u001b[0m\u001b[1;33m,\u001b[0m \u001b[0mup\u001b[0m \u001b[1;33m=\u001b[0m \u001b[0mcenter_strike_pos\u001b[0m \u001b[1;33m-\u001b[0m \u001b[0mstrike_width\u001b[0m\u001b[1;33m,\u001b[0m \u001b[0mcenter_strike_pos\u001b[0m \u001b[1;33m+\u001b[0m \u001b[0mstrike_width\u001b[0m\u001b[1;33m\u001b[0m\u001b[1;33m\u001b[0m\u001b[0m\n\u001b[0;32m     13\u001b[0m         \u001b[0mdf\u001b[0m \u001b[1;33m=\u001b[0m \u001b[0mdf\u001b[0m\u001b[1;33m[\u001b[0m\u001b[0mdown\u001b[0m\u001b[1;33m:\u001b[0m\u001b[0mup\u001b[0m\u001b[1;33m]\u001b[0m\u001b[1;33m\u001b[0m\u001b[1;33m\u001b[0m\u001b[0m\n",
      "\u001b[1;31mIndexError\u001b[0m: index 0 is out of bounds for axis 0 with size 0"
     ]
    }
   ],
   "source": [
    "Amount_of_API_Calls = 0\n",
    "for i in range(0, len(tickers)):\n",
    "    stock = tickers[i]  # Gets the current stock ticker\n",
    "    temp = yf.Ticker(str(stock))\n",
    "    data = temp.history()\n",
    "    last_quote = (data.tail(1)['Close'].iloc[0])\n",
    "    center_strike = (math.ceil(last_quote))\n",
    "    cdf=pd.DataFrame()\n",
    "    for j in range(0, min(2,len(temp.options))):\n",
    "        df = temp.option_chain(str(temp.options[j])).calls\n",
    "        center_strike_pos = (df[df['strike']==center_strike].index.values)[0]\n",
    "        down, up = center_strike_pos - strike_width, center_strike_pos + strike_width\n",
    "        df = df[down:up]\n",
    "        df_puts = temp.option_chain(str(temp.options[j])).puts\n",
    "        df_puts = df_puts[down:up]\n",
    "        df = df.append(df_puts)\n",
    "        cdf = cdf.append(df)\n",
    "        Amount_of_API_Calls += 2\n",
    "    cdf.to_excel(pathopt+stock+ext, sheet_name=stock, index = False)\n",
    "\n",
    "print(str(len(tickers))+\" Excel files saved succesfully\")\n",
    "print(\"Amount of API Calls: \"+str(Amount_of_API_Calls))"
   ]
  },
  {
   "cell_type": "code",
   "execution_count": null,
   "metadata": {},
   "outputs": [],
   "source": []
  },
  {
   "cell_type": "code",
   "execution_count": null,
   "metadata": {},
   "outputs": [],
   "source": []
  },
  {
   "cell_type": "code",
   "execution_count": null,
   "metadata": {},
   "outputs": [],
   "source": []
  },
  {
   "cell_type": "code",
   "execution_count": null,
   "metadata": {},
   "outputs": [],
   "source": []
  }
 ],
 "metadata": {
  "kernelspec": {
   "display_name": "Python 3",
   "language": "python",
   "name": "python3"
  },
  "language_info": {
   "codemirror_mode": {
    "name": "ipython",
    "version": 3
   },
   "file_extension": ".py",
   "mimetype": "text/x-python",
   "name": "python",
   "nbconvert_exporter": "python",
   "pygments_lexer": "ipython3",
   "version": "3.7.3"
  }
 },
 "nbformat": 4,
 "nbformat_minor": 2
}
