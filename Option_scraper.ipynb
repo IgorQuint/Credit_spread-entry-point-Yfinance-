{
 "cells": [
  {
   "cell_type": "code",
   "execution_count": 78,
   "metadata": {},
   "outputs": [],
   "source": [
    "# Necessary Libraries\n",
    "import yfinance as yf\n",
    "import pandas as pd\n",
    "import shutil, os, time, glob\n",
    "import numpy as np\n",
    "import requests\n",
    "from get_all_tickers import get_tickers as gt\n",
    "from statistics import mean\n",
    "import math"
   ]
  },
  {
   "cell_type": "code",
   "execution_count": 79,
   "metadata": {},
   "outputs": [],
   "source": [
    "#Locations\n",
    "os.chdir(r\"C:\\Users\\igorq\\Documents\\Phynance\\Data\")\n",
    "pathopt = \"Options/\"\n",
    "ext = \".xlsx\""
   ]
  },
  {
   "cell_type": "code",
   "execution_count": 80,
   "metadata": {},
   "outputs": [],
   "source": [
    "#Parameters\n",
    "strike_width = 10\n",
    "tickers = [\"AAPL\"]"
   ]
  },
  {
   "cell_type": "code",
   "execution_count": 82,
   "metadata": {},
   "outputs": [
    {
     "name": "stdout",
     "output_type": "stream",
     "text": [
      "1 Excel files saved succesfully\n",
      "Amount of API Calls: 10\n"
     ]
    }
   ],
   "source": [
    "Amount_of_API_Calls = 0\n",
    "for i in range(0, len(tickers)):\n",
    "    stock = tickers[i]  # Gets the current stock ticker\n",
    "    temp = yf.Ticker(str(stock))\n",
    "    data = temp.history()\n",
    "    last_quote = (data.tail(1)['Close'].iloc[0])\n",
    "    center_strike = (math.ceil(last_quote))\n",
    "    cdf=pd.DataFrame()\n",
    "    for j in range(0, min(5,len(temp.options))):\n",
    "        df = temp.option_chain(str(temp.options[j])).calls\n",
    "        center_strike_pos = (df[df['strike']==center_strike].index.values)[0]\n",
    "        down, up = center_strike_pos - strike_width, center_strike_pos + strike_width\n",
    "        df = df[down:up]\n",
    "        df_puts = temp.option_chain(str(temp.options[j])).puts\n",
    "        df_puts = df_puts[down:up]\n",
    "        df = df.append(df_puts)\n",
    "        cdf = cdf.append(df)\n",
    "        Amount_of_API_Calls += 2\n",
    "    cdf.to_excel(pathopt+stock+ext, sheet_name=stock, index = False)\n",
    "\n",
    "print(str(len(tickers))+\" Excel files saved succesfully\")\n",
    "print(\"Amount of API Calls: \"+str(Amount_of_API_Calls))"
   ]
  },
  {
   "cell_type": "code",
   "execution_count": null,
   "metadata": {},
   "outputs": [],
   "source": []
  },
  {
   "cell_type": "code",
   "execution_count": null,
   "metadata": {},
   "outputs": [],
   "source": []
  },
  {
   "cell_type": "code",
   "execution_count": null,
   "metadata": {},
   "outputs": [],
   "source": []
  },
  {
   "cell_type": "code",
   "execution_count": null,
   "metadata": {},
   "outputs": [],
   "source": []
  }
 ],
 "metadata": {
  "kernelspec": {
   "display_name": "Python 3",
   "language": "python",
   "name": "python3"
  },
  "language_info": {
   "codemirror_mode": {
    "name": "ipython",
    "version": 3
   },
   "file_extension": ".py",
   "mimetype": "text/x-python",
   "name": "python",
   "nbconvert_exporter": "python",
   "pygments_lexer": "ipython3",
   "version": "3.7.3"
  }
 },
 "nbformat": 4,
 "nbformat_minor": 2
}
