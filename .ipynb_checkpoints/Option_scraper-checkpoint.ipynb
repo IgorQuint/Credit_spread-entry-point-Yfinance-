{
 "cells": [
  {
   "cell_type": "code",
   "execution_count": 1,
   "metadata": {},
   "outputs": [
    {
     "name": "stdout",
     "output_type": "stream",
     "text": [
      "The amount of stocks chosen to observe: 12\n",
      "Dowloading = AMZN\n",
      "Dowloading = NVDA\n",
      "Dowloading = GOOGL\n",
      "Dowloading = TSLA\n",
      "Dowloading = MSFT\n",
      "Dowloading = FB\n",
      "Dowloading = AAPL\n",
      "Dowloading = SPY\n",
      "Dowloading = UDOW\n",
      "Dowloading = SDOW\n",
      "Dowloading = SPXL\n",
      "Dowloading = SPXS\n",
      "The amount of stocks we successfully imported: 12\n",
      "The number of API calls done: 12\n"
     ]
    },
    {
     "name": "stderr",
     "output_type": "stream",
     "text": [
      "C:\\Users\\igorq\\Documents\\GitHub\\Credit_spread_entry_point_Yfinance\\Stats_scraper.py:191: RuntimeWarning: divide by zero encountered in double_scalars\n",
      "  RSvalue = (avg_gain[p]/avg_loss[p])\n"
     ]
    }
   ],
   "source": [
    "# Necessary Libraries\n",
    "import yfinance as yf\n",
    "import pandas as pd\n",
    "import shutil, os, time, glob\n",
    "import numpy as np\n",
    "import requests\n",
    "from get_all_tickers import get_tickers as gt\n",
    "from statistics import mean\n",
    "import math\n",
    "import Stats_scraper\n",
    "from openpyxl import load_workbook"
   ]
  },
  {
   "cell_type": "code",
   "execution_count": 2,
   "metadata": {},
   "outputs": [],
   "source": [
    "#Locations\n",
    "os.chdir(r\"C:\\Users\\igorq\\Documents\\Phynance\\Data\")\n",
    "pathopt = \"Options/\"\n",
    "ext = \".xlsx\""
   ]
  },
  {
   "cell_type": "code",
   "execution_count": 3,
   "metadata": {},
   "outputs": [],
   "source": [
    "from datetime import date\n",
    "from datetime import timedelta\n",
    "#Parameters\n",
    "strike_width = 5\n",
    "tickers = [\"AAPL\", \"AMZN\", \"TSLA\", \"MSFT\", \"GOOGL\", \"SPY\", \"UDOW\", \"SDOW\", \"SPXL\", \"SPXS\"]\n",
    "date = date.today() - timedelta(days=1)\n",
    "date= date.strftime(\"%d%m%Y\")"
   ]
  },
  {
   "cell_type": "code",
   "execution_count": 1,
   "metadata": {},
   "outputs": [
    {
     "ename": "NameError",
     "evalue": "name 'tickers' is not defined",
     "output_type": "error",
     "traceback": [
      "\u001b[1;31m---------------------------------------------------------------------------\u001b[0m",
      "\u001b[1;31mNameError\u001b[0m                                 Traceback (most recent call last)",
      "\u001b[1;32m<ipython-input-1-1d60c2b7056c>\u001b[0m in \u001b[0;36m<module>\u001b[1;34m\u001b[0m\n\u001b[0;32m      1\u001b[0m \u001b[0mAmount_of_API_Calls\u001b[0m \u001b[1;33m=\u001b[0m \u001b[1;36m0\u001b[0m\u001b[1;33m\u001b[0m\u001b[1;33m\u001b[0m\u001b[0m\n\u001b[0;32m      2\u001b[0m \u001b[1;33m\u001b[0m\u001b[0m\n\u001b[1;32m----> 3\u001b[1;33m \u001b[1;32mfor\u001b[0m \u001b[0mi\u001b[0m \u001b[1;32min\u001b[0m \u001b[0mrange\u001b[0m\u001b[1;33m(\u001b[0m\u001b[1;36m0\u001b[0m\u001b[1;33m,\u001b[0m \u001b[0mlen\u001b[0m\u001b[1;33m(\u001b[0m\u001b[0mtickers\u001b[0m\u001b[1;33m)\u001b[0m\u001b[1;33m)\u001b[0m\u001b[1;33m:\u001b[0m\u001b[1;33m\u001b[0m\u001b[1;33m\u001b[0m\u001b[0m\n\u001b[0m\u001b[0;32m      4\u001b[0m     \u001b[0mstock\u001b[0m \u001b[1;33m=\u001b[0m \u001b[0mtickers\u001b[0m\u001b[1;33m[\u001b[0m\u001b[0mi\u001b[0m\u001b[1;33m]\u001b[0m  \u001b[1;31m# Gets the current stock ticker\u001b[0m\u001b[1;33m\u001b[0m\u001b[1;33m\u001b[0m\u001b[0m\n\u001b[0;32m      5\u001b[0m     \u001b[0mtemp\u001b[0m \u001b[1;33m=\u001b[0m \u001b[0myf\u001b[0m\u001b[1;33m.\u001b[0m\u001b[0mTicker\u001b[0m\u001b[1;33m(\u001b[0m\u001b[0mstr\u001b[0m\u001b[1;33m(\u001b[0m\u001b[0mstock\u001b[0m\u001b[1;33m)\u001b[0m\u001b[1;33m)\u001b[0m\u001b[1;33m\u001b[0m\u001b[1;33m\u001b[0m\u001b[0m\n",
      "\u001b[1;31mNameError\u001b[0m: name 'tickers' is not defined"
     ]
    }
   ],
   "source": [
    "Amount_of_API_Calls = 0\n",
    "\n",
    "for i in range(0, len(tickers)):\n",
    "    stock = tickers[i]  # Gets the current stock ticker\n",
    "    temp = yf.Ticker(str(stock))\n",
    "    data = temp.history()\n",
    "    last_quote = (data.tail(1)['Close'].iloc[0])\n",
    "    center_strike = (math.ceil(last_quote))\n",
    "    \n",
    "    #determine strike width according to absolute stock price\n",
    "    if center_strike >300:\n",
    "        strike_width = 20\n",
    "    elif center_strike>200:\n",
    "        strike_width = 15\n",
    "    elif center_strike >100:\n",
    "        strike_width = 10\n",
    "    else:\n",
    "        strike_width = 5\n",
    "        \n",
    "    cdf=pd.DataFrame()\n",
    "    for j in range(0, min(5,len(temp.options))):\n",
    "        try:\n",
    "            df = temp.option_chain(str(temp.options[j])).calls\n",
    "            center_strike_pos = (df[df['strike']==center_strike].index.values)[0]\n",
    "            down, up = center_strike_pos - strike_width, center_strike_pos + strike_width\n",
    "            df = df[down:up]\n",
    "            df_puts = temp.option_chain(str(temp.options[j])).puts\n",
    "            df_puts = df_puts[down:up]\n",
    "            df = df.append(df_puts)\n",
    "            cdf = cdf.append(df)\n",
    "            Amount_of_API_Calls += 2\n",
    "        except:\n",
    "            pass                \n",
    "\n",
    "    # Write each dataframe to a different worksheet.\n",
    "    with pd.ExcelWriter(pathopt+stock+ext, engine='openpyxl', mode='a') as writer:\n",
    "        cdf.to_excel(writer, sheet_name=date, index=False)\n",
    "\n",
    "print(str(len(tickers))+\" Excel tabs saved succesfully\")\n",
    "print(\"Amount of API Calls: \"+str(Amount_of_API_Calls))"
   ]
  },
  {
   "cell_type": "code",
   "execution_count": null,
   "metadata": {},
   "outputs": [],
   "source": []
  },
  {
   "cell_type": "code",
   "execution_count": null,
   "metadata": {},
   "outputs": [],
   "source": []
  },
  {
   "cell_type": "code",
   "execution_count": null,
   "metadata": {},
   "outputs": [],
   "source": []
  },
  {
   "cell_type": "code",
   "execution_count": null,
   "metadata": {},
   "outputs": [],
   "source": []
  }
 ],
 "metadata": {
  "kernelspec": {
   "display_name": "Python 3",
   "language": "python",
   "name": "python3"
  },
  "language_info": {
   "codemirror_mode": {
    "name": "ipython",
    "version": 3
   },
   "file_extension": ".py",
   "mimetype": "text/x-python",
   "name": "python",
   "nbconvert_exporter": "python",
   "pygments_lexer": "ipython3",
   "version": "3.8.3"
  }
 },
 "nbformat": 4,
 "nbformat_minor": 2
}
